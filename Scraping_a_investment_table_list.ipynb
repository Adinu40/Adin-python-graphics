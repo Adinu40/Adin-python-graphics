{
  "nbformat": 4,
  "nbformat_minor": 0,
  "metadata": {
    "colab": {
      "provenance": [],
      "authorship_tag": "ABX9TyOnsu8M5srS5JewQajUJJlz",
      "include_colab_link": true
    },
    "kernelspec": {
      "name": "python3",
      "display_name": "Python 3"
    },
    "language_info": {
      "name": "python"
    }
  },
  "cells": [
    {
      "cell_type": "markdown",
      "metadata": {
        "id": "view-in-github",
        "colab_type": "text"
      },
      "source": [
        "<a href=\"https://colab.research.google.com/github/Adinu40/Adin-python-graphics/blob/main/Scraping_a_investment_table_list.ipynb\" target=\"_parent\"><img src=\"https://colab.research.google.com/assets/colab-badge.svg\" alt=\"Open In Colab\"/></a>"
      ]
    },
    {
      "cell_type": "code",
      "execution_count": null,
      "metadata": {
        "id": "SQIg4lF4kqx2"
      },
      "outputs": [],
      "source": [
        "\n",
        "\n",
        "import tabula\n",
        "import pandas as pd\n",
        "import requests\n",
        "\n",
        "# URL of the PDF file\n",
        "url = \"https://www.sec.gov/files/investment/13flist2023q3.pdf\"\n",
        "\n",
        "# Define output file path\n",
        "output_csv = \"table_data.csv\"\n",
        "\n",
        "# Download the PDF file\n",
        "response = requests.get(url)\n",
        "with open(\"data.pdf\", \"wb\") as file:\n",
        "    file.write(response.content)\n",
        "\n",
        "# Extract tables using tabula-py\n",
        "tables = tabula.read_pdf(\"data.pdf\", pages=\"all\", multiple_tables=True)\n",
        "\n",
        "# Merge all tables into a single DataFrame\n",
        "df = pd.concat(tables)\n",
        "\n",
        "\n",
        "# Save the DataFrame as a CSV file\n",
        "df.to_csv(output_csv, index=False)"
      ]
    },
    {
      "cell_type": "code",
      "source": [
        "pip install tabula-py"
      ],
      "metadata": {
        "id": "3gdJg4wDk1Te"
      },
      "execution_count": null,
      "outputs": []
    }
  ]
}